{
 "cells": [
  {
   "cell_type": "code",
   "execution_count": 5,
   "metadata": {},
   "outputs": [
    {
     "name": "stdout",
     "output_type": "stream",
     "text": [
      "True\n",
      "True\n",
      "False\n"
     ]
    }
   ],
   "source": [
    "def is_palindrome_language(s):\n",
    "    # Base case: if the string is empty, it's a valid palindrome language\n",
    "    if not s:\n",
    "        return True\n",
    "    # If the first and last characters are different, it's not a valid palindrome language\n",
    "    if s[0] != s[-1]:\n",
    "        return False\n",
    "    # Recur for the substring excluding the first and last characters\n",
    "    return is_palindrome_language(s[1:-1])\n",
    "\n",
    "# Example usage:\n",
    "print(is_palindrome_language(\"0110\"))  # Output: True (0, 1, 1, 0 are palindromes)\n",
    "print(is_palindrome_language(\"abbba\"))  # Output: True (0, 1, 1, 0 are palindromes)\n",
    "print(is_palindrome_language(\"0101\"))  # Output: False (01 is not a palindrome)\n",
    "\n"
   ]
  },
  {
   "cell_type": "code",
   "execution_count": null,
   "metadata": {},
   "outputs": [],
   "source": []
  }
 ],
 "metadata": {
  "kernelspec": {
   "display_name": "base",
   "language": "python",
   "name": "python3"
  },
  "language_info": {
   "codemirror_mode": {
    "name": "ipython",
    "version": 3
   },
   "file_extension": ".py",
   "mimetype": "text/x-python",
   "name": "python",
   "nbconvert_exporter": "python",
   "pygments_lexer": "ipython3",
   "version": "3.12.4"
  }
 },
 "nbformat": 4,
 "nbformat_minor": 2
}
